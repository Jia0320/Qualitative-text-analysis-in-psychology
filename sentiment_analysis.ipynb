{
 "cells": [
  {
   "cell_type": "raw",
   "metadata": {},
   "source": [
    "文本情感分析"
   ]
  },
  {
   "cell_type": "code",
   "execution_count": 6,
   "metadata": {
    "scrolled": true
   },
   "outputs": [],
   "source": [
    "from snownlp import SnowNLP\n",
    "\n",
    "import os\n",
    "import pandas as pd\n",
    "file_path='C:\\\\Users\\\\Starrism.Jia\\\\Documents\\\\python daima\\\\qingganfenxi test\\\\data'\n",
    "os.chdir(file_path)\n",
    "data=pd.read_excel(\"gift sentence.xlsx\")\n",
    "#data.head ()"
   ]
  },
  {
   "cell_type": "code",
   "execution_count": 7,
   "metadata": {},
   "outputs": [
    {
     "data": {
      "text/html": [
       "<div>\n",
       "<style scoped>\n",
       "    .dataframe tbody tr th:only-of-type {\n",
       "        vertical-align: middle;\n",
       "    }\n",
       "\n",
       "    .dataframe tbody tr th {\n",
       "        vertical-align: top;\n",
       "    }\n",
       "\n",
       "    .dataframe thead th {\n",
       "        text-align: right;\n",
       "    }\n",
       "</style>\n",
       "<table border=\"1\" class=\"dataframe\">\n",
       "  <thead>\n",
       "    <tr style=\"text-align: right;\">\n",
       "      <th></th>\n",
       "      <th>sentence</th>\n",
       "      <th>sentiment</th>\n",
       "    </tr>\n",
       "  </thead>\n",
       "  <tbody>\n",
       "    <tr>\n",
       "      <th>0</th>\n",
       "      <td>送礼收礼这个很正常的呀</td>\n",
       "      <td>0.180273</td>\n",
       "    </tr>\n",
       "    <tr>\n",
       "      <th>1</th>\n",
       "      <td>出去走亲访友啦，还是客人到我们家啦，基本上都有随点的小礼物这种，这算是一种人情世故吧，频率蛮高的</td>\n",
       "      <td>0.993842</td>\n",
       "    </tr>\n",
       "    <tr>\n",
       "      <th>2</th>\n",
       "      <td>送礼对象就是生意上的伙伴啦，还有这个亲戚朋友</td>\n",
       "      <td>0.485869</td>\n",
       "    </tr>\n",
       "    <tr>\n",
       "      <th>3</th>\n",
       "      <td>目的是增加两家人，这个人和人之间的友谊</td>\n",
       "      <td>0.969854</td>\n",
       "    </tr>\n",
       "    <tr>\n",
       "      <th>4</th>\n",
       "      <td>送礼是一个很讲究的，这个学问是很大的</td>\n",
       "      <td>0.725824</td>\n",
       "    </tr>\n",
       "  </tbody>\n",
       "</table>\n",
       "</div>"
      ],
      "text/plain": [
       "                                           sentence  sentiment\n",
       "0                                       送礼收礼这个很正常的呀   0.180273\n",
       "1  出去走亲访友啦，还是客人到我们家啦，基本上都有随点的小礼物这种，这算是一种人情世故吧，频率蛮高的   0.993842\n",
       "2                            送礼对象就是生意上的伙伴啦，还有这个亲戚朋友   0.485869\n",
       "3                               目的是增加两家人，这个人和人之间的友谊   0.969854\n",
       "4                                送礼是一个很讲究的，这个学问是很大的   0.725824"
      ]
     },
     "execution_count": 7,
     "metadata": {},
     "output_type": "execute_result"
    }
   ],
   "source": [
    "from snownlp import SnowNLP\n",
    "\n",
    "def get_sentiment_cn(text):                   \n",
    "    s = SnowNLP(text)\n",
    "    return s.sentiments\n",
    "    \n",
    "data[\"sentiment\"] = data.sentence.apply(get_sentiment_cn)\n",
    "data.head()"
   ]
  },
  {
   "cell_type": "code",
   "execution_count": 8,
   "metadata": {},
   "outputs": [],
   "source": [
    "\n",
    "output_path ='C:\\\\Users\\\\Starrism.Jia\\\\Documents\\\\python daima\\\\qingganfenxi test\\\\result'\n",
    "os.chdir(output_path)\n",
    "data.to_excel(\"data_result_gift.xlsx\",index=False)        "
   ]
  },
  {
   "cell_type": "raw",
   "metadata": {},
   "source": [
    "词典更改"
   ]
  },
  {
   "cell_type": "code",
   "execution_count": 14,
   "metadata": {},
   "outputs": [
    {
     "name": "stderr",
     "output_type": "stream",
     "text": [
      "<>:2: SyntaxWarning: invalid escape sequence '\\S'\n",
      "<>:2: SyntaxWarning: invalid escape sequence '\\S'\n",
      "C:\\Users\\Starrism.Jia\\AppData\\Local\\Temp\\ipykernel_26032\\2414711512.py:2: SyntaxWarning: invalid escape sequence '\\S'\n",
      "  file_path='C:\\\\Users\\Starrism.Jia\\\\Documents\\\\python daima\\\\qingganfenxi test'\n"
     ]
    }
   ],
   "source": [
    "from snownlp import sentiment\n",
    "file_path='C:\\\\Users\\Starrism.Jia\\\\Documents\\\\python daima\\\\qingganfenxi test'\n",
    "os.chdir(file_path)\n",
    "\n",
    "sentiment.train('neg.txt', 'pos.txt')\n",
    "sentiment.save(\"sentiment.marshal\")"
   ]
  },
  {
   "cell_type": "code",
   "execution_count": null,
   "metadata": {},
   "outputs": [],
   "source": []
  }
 ],
 "metadata": {
  "kernelspec": {
   "display_name": "Python 3 (ipykernel)",
   "language": "python",
   "name": "python3"
  },
  "language_info": {
   "codemirror_mode": {
    "name": "ipython",
    "version": 3
   },
   "file_extension": ".py",
   "mimetype": "text/x-python",
   "name": "python",
   "nbconvert_exporter": "python",
   "pygments_lexer": "ipython3",
   "version": "3.12.4"
  }
 },
 "nbformat": 4,
 "nbformat_minor": 4
}
