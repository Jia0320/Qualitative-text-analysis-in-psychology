{
 "cells": [
  {
   "cell_type": "code",
   "execution_count": 2,
   "metadata": {},
   "outputs": [
    {
     "name": "stdin",
     "output_type": "stream",
     "text": [
      "请输入当前文件夹路径: C:\\Users\\Starrism.Jia\\Documents\\python daima\\cipinciyun\n",
      "请输入停用词文件名字: stop.txt\n",
      "请输入用户词典文件名字: add_word_list.txt\n",
      "请输入文件名字: gift all.txt\n",
      "Press <enter> \n"
     ]
    },
    {
     "data": {
      "text/plain": [
       "''"
      ]
     },
     "execution_count": 2,
     "metadata": {},
     "output_type": "execute_result"
    }
   ],
   "source": [
    "import os\n",
    "import jieba\n",
    "import jieba.posseg as psg\n",
    "import re\n",
    "import pandas as pd\n",
    "\n",
    "def get_stop_dict(file):              #定义停用词函数\n",
    "    content = open(file,encoding=\"utf-8\")\n",
    "    word_list = []\n",
    "    for c in content:\n",
    "        c = re.sub('\\n|\\r','',c)      #换行符和回车符替换为空字符串\n",
    "        word_list.append(c)\n",
    "    return word_list\n",
    " \n",
    "file_path = input(\"请输入当前文件夹路径:\")\n",
    "os.chdir(file_path)                       #切换到用户指定的工作目录\n",
    "stop_file = input(\"请输入停用词文件名字:\")\n",
    "user_file = input(\"请输入用户词典文件名字:\")\n",
    "##stop_file = \"stopwordlist.txt\"\n",
    "##user_file = \"add_word_list.txt\"\n",
    " \n",
    "stop_words = get_stop_dict(stop_file)              #停用词函数调用\n",
    "file_name = input(\"请输入文件名字:\")\n",
    "text = open(file_name,encoding=\"utf-8\").read()     #读取文件内容\n",
    "jieba.load_userdict(user_file)                     #加载自定义的词典文件\n",
    "text_lines  = text.split('\\n')\n",
    " \n",
    "flag_list = ['n','vn','ad','a','v','d']\n",
    "counts={}\n",
    " \n",
    "for line in text_lines:\n",
    "    line_seg = psg.cut(line)                          #psg.cut函数进行分词及词性标注，放入line_seg\n",
    "    for word_flag in line_seg:\n",
    "        word = re.sub(\"[^\\u4e00-\\u9fa5]\",\"\",word_flag.word)         #将非中文字符替换为空字符串\n",
    "        if word_flag.flag in flag_list and len(word)>1 and word not in stop_words:\n",
    "            counts[word]=counts.get(word,0)+1                         #符合条件并统计频次\n",
    " \n",
    "word_freq = pd.DataFrame({'word':list(counts.keys()),'freq':list(counts.values())})     #设置表格列\n",
    "word_freq = word_freq.sort_values(by='freq',ascending=False)                          #降序排序\n",
    "word_freq.to_excel(\"word_freq.xlsx\",index=False)                                    #输出表格\n",
    " \n",
    "input(\"Press <enter>\")\n"
   ]
  },
  {
   "cell_type": "code",
   "execution_count": null,
   "metadata": {},
   "outputs": [],
   "source": []
  }
 ],
 "metadata": {
  "kernelspec": {
   "display_name": "Python 3 (ipykernel)",
   "language": "python",
   "name": "python3"
  },
  "language_info": {
   "codemirror_mode": {
    "name": "ipython",
    "version": 3
   },
   "file_extension": ".py",
   "mimetype": "text/x-python",
   "name": "python",
   "nbconvert_exporter": "python",
   "pygments_lexer": "ipython3",
   "version": "3.12.4"
  }
 },
 "nbformat": 4,
 "nbformat_minor": 4
}
